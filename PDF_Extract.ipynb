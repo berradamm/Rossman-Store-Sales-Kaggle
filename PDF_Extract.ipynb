{
  "nbformat": 4,
  "nbformat_minor": 0,
  "metadata": {
    "colab": {
      "name": "PDF Extract.ipynb",
      "provenance": [],
      "authorship_tag": "ABX9TyNQABXRtIHZIyPvMUzNUphk",
      "include_colab_link": true
    },
    "kernelspec": {
      "name": "python3",
      "display_name": "Python 3"
    },
    "language_info": {
      "name": "python"
    }
  },
  "cells": [
    {
      "cell_type": "markdown",
      "metadata": {
        "id": "view-in-github",
        "colab_type": "text"
      },
      "source": [
        "<a href=\"https://colab.research.google.com/github/berradamm/Rossman-Store-Sales-Kaggle/blob/master/PDF_Extract.ipynb\" target=\"_parent\"><img src=\"https://colab.research.google.com/assets/colab-badge.svg\" alt=\"Open In Colab\"/></a>"
      ]
    },
    {
      "cell_type": "code",
      "metadata": {
        "colab": {
          "base_uri": "https://localhost:8080/"
        },
        "id": "3428Yn1dVi49",
        "outputId": "f0e8dccf-4abc-4abb-ea40-1671f9a1dd57"
      },
      "source": [
        "#pip install tabula-py"
      ],
      "execution_count": 1,
      "outputs": [
        {
          "output_type": "stream",
          "name": "stdout",
          "text": [
            "Requirement already satisfied: tabula-py in /usr/local/lib/python3.7/dist-packages (2.3.0)\n",
            "Requirement already satisfied: numpy in /usr/local/lib/python3.7/dist-packages (from tabula-py) (1.19.5)\n",
            "Requirement already satisfied: distro in /usr/local/lib/python3.7/dist-packages (from tabula-py) (1.6.0)\n",
            "Requirement already satisfied: pandas>=0.25.3 in /usr/local/lib/python3.7/dist-packages (from tabula-py) (1.1.5)\n",
            "Requirement already satisfied: python-dateutil>=2.7.3 in /usr/local/lib/python3.7/dist-packages (from pandas>=0.25.3->tabula-py) (2.8.2)\n",
            "Requirement already satisfied: pytz>=2017.2 in /usr/local/lib/python3.7/dist-packages (from pandas>=0.25.3->tabula-py) (2018.9)\n",
            "Requirement already satisfied: six>=1.5 in /usr/local/lib/python3.7/dist-packages (from python-dateutil>=2.7.3->pandas>=0.25.3->tabula-py) (1.15.0)\n"
          ]
        }
      ]
    },
    {
      "cell_type": "code",
      "metadata": {
        "id": "I_LsjoMDVxhs"
      },
      "source": [
        "import tabula as tb\n",
        "import pandas as pd\n",
        "import re"
      ],
      "execution_count": 2,
      "outputs": []
    },
    {
      "cell_type": "code",
      "metadata": {
        "id": "hTqVF0bHjG0y"
      },
      "source": [
        "def extract_pdf(pathf, nb_page,area,columns,pandas_options, stream):\n",
        "  df = tb.read_pdf(input_path= pathf, pages = nb_page, area= area ,columns= columns,pandas_options = pandas_options,stream=stream)[0]\n",
        "  df['border'] = df.apply(lambda x: 1 if re.findall('^[A-Z].*[a-z]$', str(x[0])) else 0, axis = 1)\n",
        "  return df.to_excel('Tab_pdf.xlsx')"
      ],
      "execution_count": 17,
      "outputs": []
    },
    {
      "cell_type": "code",
      "metadata": {
        "id": "lqYG_f-Ajo5z"
      },
      "source": [
        "file = 'printPlanner.pdf'\n",
        "extract_pdf(file,'1', (100, 0, 1000, 1000), [110,180,195], {'header': None}, True)"
      ],
      "execution_count": 18,
      "outputs": []
    }
  ]
}